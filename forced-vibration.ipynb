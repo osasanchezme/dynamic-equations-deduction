{
 "cells": [
  {
   "cell_type": "markdown",
   "metadata": {},
   "source": [
    "## Funciones de utilidad"
   ]
  },
  {
   "cell_type": "code",
   "execution_count": null,
   "metadata": {},
   "outputs": [],
   "source": [
    "import sympy as sp\n",
    "from IPython.display import display, Math\n",
    "\n",
    "def print_math(sympy_exp, pre_symbol = '', post_symbol = '', convert_pre_post = False):\n",
    "    # Map some symbols to be reaplaced before printing to keep desired order\n",
    "    rep_map = {\n",
    "        'zt': 't',\n",
    "        'zU_p': 'U_p',\n",
    "        'z\\\\dot{U}_p': '\\\\dot{U}_p',\n",
    "        'z\\\\ddot{U}_p': '\\\\ddot{U}_p',\n",
    "        'zU': 'U',\n",
    "        'z\\\\dot{U}': '\\\\dot{U}',\n",
    "        'z\\\\ddot{U}': '\\\\ddot{U}',\n",
    "        'a\\\\xi': '\\\\xi',\n",
    "        'am': 'm',\n",
    "        'bc': 'c',\n",
    "    }\n",
    "    latex_str = sp.latex(sympy_exp)\n",
    "    if convert_pre_post:\n",
    "        pre_symbol_latex = sp.latex(pre_symbol)\n",
    "        post_symbol_latex = sp.latex(post_symbol)\n",
    "    for old_str in rep_map:\n",
    "        latex_str = str(latex_str).replace(old_str, rep_map[old_str])\n",
    "        if pre_symbol != '' and convert_pre_post:\n",
    "            pre_symbol_latex = pre_symbol_latex.replace(old_str, rep_map[old_str])\n",
    "        if post_symbol != '' and convert_pre_post:\n",
    "            post_symbol_latex = post_symbol_latex.replace(old_str, rep_map[old_str])\n",
    "            \n",
    "    # if pre_symbol != '' and convert_pre_post:\n",
    "    #     pre_symbol = pre_symbol_latex\n",
    "    # if post_symbol != '' and convert_pre_post:\n",
    "    #     post_symbol = post_symbol_latex\n",
    "        \n",
    "    if pre_symbol != '':\n",
    "        if convert_pre_post:\n",
    "            pre_symbol = pre_symbol_latex\n",
    "        latex_str = pre_symbol + ' = ' + latex_str\n",
    "    if post_symbol != '':\n",
    "        if convert_pre_post:\n",
    "            post_symbol = post_symbol_latex\n",
    "        latex_str = latex_str + ' = ' + post_symbol\n",
    "    # print(latex_str)\n",
    "    display(Math(f'{latex_str} \\n'))\n",
    "\n",
    "def print_text(text_str):\n",
    "    display(Math(f'\\\\textrm{{{text_str}}}'))"
   ]
  },
  {
   "cell_type": "markdown",
   "metadata": {},
   "source": [
    "## Solución homogenea para no forzado!"
   ]
  },
  {
   "cell_type": "code",
   "execution_count": null,
   "metadata": {},
   "outputs": [],
   "source": [
    "# Solution for the homogeneus part\n",
    "Uu, Uv, Ua, A, B, wn, wd, t, m, k, to, z, c = sp.symbols('zU, z\\\\dot{U}, z\\\\ddot{U}, A, B, w_n, w_d, zt, am, k, zt_0, a\\\\xi, bc')\n",
    "\n",
    "Uuo, Uvo, Uao = sp.symbols('zU_0, \\\\dot{U}_0, \\\\ddot{U}_0')\n",
    "\n",
    "# ----------- Non-damped free vibration -----------\n",
    "# Diferential equation\n",
    "# print_text('Governing differential equation: ')\n",
    "# ed = m * Ua + k * Uu\n",
    "# print_math(ed, '', '0')\n",
    "# print_text('Solution shape: ')\n",
    "# Us = A * sp.cos(wn * t) + B * sp.sin(wn * t)\n",
    "# print_math(Us, 'U')\n",
    "# Vs = sp.diff(Us, t)\n",
    "# print_math(Vs, '\\\\dot{U}')\n",
    "# As = sp.diff(Vs, t)\n",
    "# print_math(As, '\\\\ddot{U}')\n",
    "\n",
    "# ----------- Damped free vibration -----------\n",
    "# Diferential equation\n",
    "print_text('Governing differential equation: ')\n",
    "ed = m * Ua + c * Uv + k * Uu\n",
    "print_math(ed, '', '0')\n",
    "print_text('Solution shape: ')\n",
    "Us = (A * sp.cos(wd * t) + B * sp.sin(wd * t)) * sp.exp(-z*wn*t)\n",
    "print_math(Us, 'U')\n",
    "Vs = sp.diff(Us, t)\n",
    "print_math(Vs, '\\\\dot{U}')\n",
    "As = sp.diff(Vs, t)\n",
    "print_math(As, '\\\\ddot{U}')\n",
    "\n",
    "print_text('Given the boundary conditions, find the coefficients: ')\n",
    "Uso = Us - Uuo\n",
    "Uso = Uso.subs(t, to)\n",
    "print_math(Uso, '', '0')\n",
    "Uso = Uso.subs(to, 0)\n",
    "Vso = Vs - Uvo\n",
    "Vso = Vso.subs(t, to)\n",
    "print_math(Vso, '', '0')\n",
    "Vso = Vso.subs(to, 0)\n",
    "\n",
    "print_math(Uso, '', '0')\n",
    "print_math(Vso, '', '0')\n",
    "\n",
    "coeff_sol = sp.solve([Uso, Vso], [A, B])\n",
    "for coeff in coeff_sol:\n",
    "    print_math(coeff_sol[coeff], sp.latex(coeff))\n",
    "\n",
    "print_text('Final solutions:')\n",
    "Uu = Us.subs(coeff_sol)\n",
    "print_math(Uu, 'U')\n",
    "Uv = Vs.subs(coeff_sol)\n",
    "print_math(Uv, '\\\\dot{U}')\n",
    "Ua = As.subs(coeff_sol)\n",
    "print_math(Ua, '\\\\ddot{U}')\n"
   ]
  },
  {
   "cell_type": "markdown",
   "metadata": {},
   "source": [
    "## Encontrando la solución particular"
   ]
  },
  {
   "cell_type": "code",
   "execution_count": 52,
   "metadata": {},
   "outputs": [
    {
     "data": {
      "text/latex": [
       "$\\displaystyle \\textrm{Governing differential equation: }$"
      ],
      "text/plain": [
       "<IPython.core.display.Math object>"
      ]
     },
     "metadata": {},
     "output_type": "display_data"
    },
    {
     "data": {
      "text/latex": [
       "$\\displaystyle m \\ddot{U} + c \\dot{U} + k U = F_{0} \\sin{\\left(\\Omega t \\right)} \n",
       "$"
      ],
      "text/plain": [
       "<IPython.core.display.Math object>"
      ]
     },
     "metadata": {},
     "output_type": "display_data"
    },
    {
     "data": {
      "text/latex": [
       "$\\displaystyle 2 \\xi w_{n} \\dot{U} + w_{n}^{2} U + \\ddot{U} = \\frac{F_{0} \\sin{\\left(\\Omega t \\right)}}{m} \n",
       "$"
      ],
      "text/plain": [
       "<IPython.core.display.Math object>"
      ]
     },
     "metadata": {},
     "output_type": "display_data"
    },
    {
     "data": {
      "text/latex": [
       "$\\displaystyle \\textrm{Solution shape: }$"
      ],
      "text/plain": [
       "<IPython.core.display.Math object>"
      ]
     },
     "metadata": {},
     "output_type": "display_data"
    },
    {
     "data": {
      "text/latex": [
       "$\\displaystyle U_p = A_{p} \\cos{\\left(\\Omega t \\right)} + B_{p} \\sin{\\left(\\Omega t \\right)} \n",
       "$"
      ],
      "text/plain": [
       "<IPython.core.display.Math object>"
      ]
     },
     "metadata": {},
     "output_type": "display_data"
    },
    {
     "data": {
      "text/latex": [
       "$\\displaystyle \\dot{U_p} = - A_{p} \\Omega \\sin{\\left(\\Omega t \\right)} + B_{p} \\Omega \\cos{\\left(\\Omega t \\right)} \n",
       "$"
      ],
      "text/plain": [
       "<IPython.core.display.Math object>"
      ]
     },
     "metadata": {},
     "output_type": "display_data"
    },
    {
     "data": {
      "text/latex": [
       "$\\displaystyle \\ddot{U_p} = - A_{p} \\Omega^{2} \\cos{\\left(\\Omega t \\right)} - B_{p} \\Omega^{2} \\sin{\\left(\\Omega t \\right)} \n",
       "$"
      ],
      "text/plain": [
       "<IPython.core.display.Math object>"
      ]
     },
     "metadata": {},
     "output_type": "display_data"
    },
    {
     "data": {
      "text/latex": [
       "$\\displaystyle - A_{p} \\Omega^{2} \\cos{\\left(\\Omega t \\right)} - B_{p} \\Omega^{2} \\sin{\\left(\\Omega t \\right)} + 2 \\xi w_{n} \\left(- A_{p} \\Omega \\sin{\\left(\\Omega t \\right)} + B_{p} \\Omega \\cos{\\left(\\Omega t \\right)}\\right) + w_{n}^{2} \\left(A_{p} \\cos{\\left(\\Omega t \\right)} + B_{p} \\sin{\\left(\\Omega t \\right)}\\right) = \\frac{F_{0} \\sin{\\left(\\Omega t \\right)}}{m} \n",
       "$"
      ],
      "text/plain": [
       "<IPython.core.display.Math object>"
      ]
     },
     "metadata": {},
     "output_type": "display_data"
    },
    {
     "data": {
      "text/latex": [
       "$\\displaystyle - 2 A_{p} \\xi r \\sin{\\left(\\Omega t \\right)} - A_{p} r^{2} \\cos{\\left(\\Omega t \\right)} + A_{p} \\cos{\\left(\\Omega t \\right)} + 2 B_{p} \\xi r \\cos{\\left(\\Omega t \\right)} - B_{p} r^{2} \\sin{\\left(\\Omega t \\right)} + B_{p} \\sin{\\left(\\Omega t \\right)} = U_{est} \\sin{\\left(\\Omega t \\right)} \n",
       "$"
      ],
      "text/plain": [
       "<IPython.core.display.Math object>"
      ]
     },
     "metadata": {},
     "output_type": "display_data"
    },
    {
     "data": {
      "text/latex": [
       "$\\displaystyle \\textrm{Coeficientes encontrados: }$"
      ],
      "text/plain": [
       "<IPython.core.display.Math object>"
      ]
     },
     "metadata": {},
     "output_type": "display_data"
    },
    {
     "data": {
      "text/latex": [
       "$\\displaystyle A_{p} = - \\frac{2 U_{est} \\xi r}{4 \\xi^{2} r^{2} + r^{4} - 2 r^{2} + 1} \n",
       "$"
      ],
      "text/plain": [
       "<IPython.core.display.Math object>"
      ]
     },
     "metadata": {},
     "output_type": "display_data"
    },
    {
     "data": {
      "text/latex": [
       "$\\displaystyle B_{p} = \\frac{U_{est} \\left(1 - r^{2}\\right)}{4 \\xi^{2} r^{2} + r^{4} - 2 r^{2} + 1} \n",
       "$"
      ],
      "text/plain": [
       "<IPython.core.display.Math object>"
      ]
     },
     "metadata": {},
     "output_type": "display_data"
    },
    {
     "data": {
      "text/latex": [
       "$\\displaystyle \\textrm{Solución particular: }$"
      ],
      "text/plain": [
       "<IPython.core.display.Math object>"
      ]
     },
     "metadata": {},
     "output_type": "display_data"
    },
    {
     "data": {
      "text/latex": [
       "$\\displaystyle U_p = \\frac{U_{est} \\left(- 2 \\xi r \\cos{\\left(\\Omega t \\right)} + \\left(1 - r^{2}\\right) \\sin{\\left(\\Omega t \\right)}\\right)}{4 \\xi^{2} r^{2} + r^{4} - 2 r^{2} + 1} \n",
       "$"
      ],
      "text/plain": [
       "<IPython.core.display.Math object>"
      ]
     },
     "metadata": {},
     "output_type": "display_data"
    },
    {
     "data": {
      "text/latex": [
       "$\\displaystyle \\dot{U}_p = \\frac{U_{est} \\Omega \\left(2 \\xi r \\sin{\\left(\\Omega t \\right)} + \\left(1 - r^{2}\\right) \\cos{\\left(\\Omega t \\right)}\\right)}{4 \\xi^{2} r^{2} + r^{4} - 2 r^{2} + 1} \n",
       "$"
      ],
      "text/plain": [
       "<IPython.core.display.Math object>"
      ]
     },
     "metadata": {},
     "output_type": "display_data"
    },
    {
     "data": {
      "text/latex": [
       "$\\displaystyle \\ddot{U}_p = \\frac{U_{est} \\Omega^{2} \\left(2 \\xi r \\cos{\\left(\\Omega t \\right)} + \\left(r^{2} - 1\\right) \\sin{\\left(\\Omega t \\right)}\\right)}{4 \\xi^{2} r^{2} + r^{4} - 2 r^{2} + 1} \n",
       "$"
      ],
      "text/plain": [
       "<IPython.core.display.Math object>"
      ]
     },
     "metadata": {},
     "output_type": "display_data"
    }
   ],
   "source": [
    "# General symbols\n",
    "Uu, Uv, Ua, A, B, wn, wd, t, m, k, to, z, c, r = sp.symbols('zU, z\\\\dot{U}, z\\\\ddot{U}, A, B, w_n, w_d, zt, am, k, zt_0, a\\\\xi, bc, r')\n",
    "\n",
    "# Symbols for the particular solution\n",
    "Uup, Uvp, Uap, Ap, Bp, Uest = sp.symbols('zU_p, z\\\\dot{U}_p, z\\\\ddot{U}_p, A_p, B_p, U_{est}')\n",
    "\n",
    "# Symbols specific for the loading function\n",
    "Ome, Fo = sp.symbols('\\Omega, F_0')\n",
    "\n",
    "\n",
    "# Parts of the particular solution\n",
    "part_factors = [sp.cos(Ome * t), sp.sin(Ome * t)]\n",
    "\n",
    "# External force function\n",
    "ext_force = Fo * sp.sin(Ome * t)\n",
    "\n",
    "# Diferential equation\n",
    "print_text('Governing differential equation: ')\n",
    "ed = m * Ua + c * Uv + k * Uu # - Fo * sp.sin(Ome * t)\n",
    "print_math(ed, '', ext_force, True)\n",
    "\n",
    "# TODO Divide by m to make things easier and get \\xi and wn into play\n",
    "ed = sp.expand(ed / m)\n",
    "ed = ed.subs(c, 2*z*wn*m)\n",
    "ed = ed.subs(k/m, wn**2)\n",
    "ext_force = ext_force / m\n",
    "print_math(ed, '', ext_force, True)\n",
    "\n",
    "# Solution's shape for displacement, velocity and acceleration\n",
    "print_text('Solution shape: ')\n",
    "Ups = (Ap * part_factors[0] + Bp * part_factors[1])\n",
    "print_math(Ups, 'U_p',)\n",
    "Vps = sp.diff(Ups, t)\n",
    "print_math(Vps, '\\\\dot{U_p}')\n",
    "Aps = sp.diff(Vps, t)\n",
    "print_math(Aps, '\\\\ddot{U_p}')\n",
    "\n",
    "# Plug solution function into the governing differential equation\n",
    "ed_rep = ed.subs({Uu: Ups, Uv: Vps, Ua: Aps})\n",
    "print_math(ed_rep, '', ext_force, True)\n",
    "\n",
    "# TODO Introduce the factor r = Ome/wn\n",
    "ed_rep = sp.expand(ed_rep / wn**2)\n",
    "ed_rep = ed_rep.subs(Ome / wn, r)\n",
    "ext_force = sp.expand(ext_force / wn**2)\n",
    "ext_force = ext_force.subs(m * wn**2, k)\n",
    "ext_force = ext_force.subs(Fo / k, Uest)\n",
    "print_math(ed_rep, '', ext_force, True)\n",
    "\n",
    "# Get the factors for each part of the function to solve it\n",
    "factors_coeff = sp.reduced(ed_rep, part_factors)\n",
    "factors_coeff_ext = sp.reduced(ext_force, part_factors)\n",
    "\n",
    "# Create the system of equations\n",
    "eqns = []\n",
    "for i in range(len(factors_coeff[0])):\n",
    "    eqns.append(factors_coeff[0][i] - factors_coeff_ext[0][i])\n",
    "\n",
    "# Solve the system of equations\n",
    "sol = sp.solve(eqns, [Ap, Bp])\n",
    "\n",
    "print_text('Coeficientes encontrados: ')\n",
    "for res in sol:\n",
    "    sol[res] = sp.simplify(sp.factor(sol[res]))\n",
    "    print_math(sol[res], res, '', True)\n",
    "\n",
    "print_text('Solución particular: ')\n",
    "# Plug found coefficients into the governing equation\n",
    "Ups = sp.simplify(Ups.subs(sol))\n",
    "print_math(Ups, 'U_p',)\n",
    "Vps = sp.simplify(Vps.subs(sol))\n",
    "print_math(Vps, '\\\\dot{U}_p',)\n",
    "Aps = sp.simplify(Aps.subs(sol))\n",
    "print_math(Aps, '\\\\ddot{U}_p',)\n",
    "\n",
    "# print_text('Given the boundary conditions, find the coefficients: ')\n",
    "# Uso = Us - Uuo\n",
    "# Uso = Uso.subs(t, to)\n",
    "# print_math(Uso, '', '0')\n",
    "# Uso = Uso.subs(to, 0)\n",
    "# Vso = Vs - Uvo\n",
    "# Vso = Vso.subs(t, to)\n",
    "# print_math(Vso, '', '0')\n",
    "# Vso = Vso.subs(to, 0)\n",
    "\n",
    "# print_math(Uso, '', '0')\n",
    "# print_math(Vso, '', '0')\n",
    "\n",
    "# coeff_sol = sp.solve([Uso, Vso], [A, B])\n",
    "# for coeff in coeff_sol:\n",
    "#     print_math(coeff_sol[coeff], sp.latex(coeff))\n",
    "\n",
    "# print_text('Final solutions:')\n",
    "# Uu = Us.subs(coeff_sol)\n",
    "# print_math(Uu, 'U')\n",
    "# Uv = Vs.subs(coeff_sol)\n",
    "# print_math(Uv, '\\\\dot{U}')\n",
    "# Ua = As.subs(coeff_sol)\n",
    "# print_math(Ua, '\\\\ddot{U}')\n"
   ]
  },
  {
   "cell_type": "markdown",
   "metadata": {},
   "source": [
    "## Solución total con $U = U_p + U_h$"
   ]
  },
  {
   "cell_type": "code",
   "execution_count": 53,
   "metadata": {},
   "outputs": [
    {
     "data": {
      "text/latex": [
       "$\\displaystyle \\textrm{Governing differential equation: }$"
      ],
      "text/plain": [
       "<IPython.core.display.Math object>"
      ]
     },
     "metadata": {},
     "output_type": "display_data"
    },
    {
     "data": {
      "text/latex": [
       "$\\displaystyle m \\ddot{U} + c \\dot{U} + k U = 0 \n",
       "$"
      ],
      "text/plain": [
       "<IPython.core.display.Math object>"
      ]
     },
     "metadata": {},
     "output_type": "display_data"
    },
    {
     "data": {
      "text/latex": [
       "$\\displaystyle \\textrm{Solution shape: }$"
      ],
      "text/plain": [
       "<IPython.core.display.Math object>"
      ]
     },
     "metadata": {},
     "output_type": "display_data"
    },
    {
     "data": {
      "text/latex": [
       "$\\displaystyle U = \\frac{U_{est} \\left(- 2 \\xi r \\cos{\\left(\\Omega t \\right)} + \\left(1 - r^{2}\\right) \\sin{\\left(\\Omega t \\right)}\\right)}{4 \\xi^{2} r^{2} + r^{4} - 2 r^{2} + 1} + \\left(A \\cos{\\left(w_{d} t \\right)} + B \\sin{\\left(w_{d} t \\right)}\\right) e^{- \\xi w_{n} t} \n",
       "$"
      ],
      "text/plain": [
       "<IPython.core.display.Math object>"
      ]
     },
     "metadata": {},
     "output_type": "display_data"
    },
    {
     "data": {
      "text/latex": [
       "$\\displaystyle \\dot{U} = \\frac{U_{est} \\left(2 \\Omega \\xi r \\sin{\\left(\\Omega t \\right)} + \\Omega \\left(1 - r^{2}\\right) \\cos{\\left(\\Omega t \\right)}\\right)}{4 \\xi^{2} r^{2} + r^{4} - 2 r^{2} + 1} - \\xi w_{n} \\left(A \\cos{\\left(w_{d} t \\right)} + B \\sin{\\left(w_{d} t \\right)}\\right) e^{- \\xi w_{n} t} + \\left(- A w_{d} \\sin{\\left(w_{d} t \\right)} + B w_{d} \\cos{\\left(w_{d} t \\right)}\\right) e^{- \\xi w_{n} t} \n",
       "$"
      ],
      "text/plain": [
       "<IPython.core.display.Math object>"
      ]
     },
     "metadata": {},
     "output_type": "display_data"
    },
    {
     "data": {
      "text/latex": [
       "$\\displaystyle \\ddot{U} = \\frac{U_{est} \\left(2 \\Omega^{2} \\xi r \\cos{\\left(\\Omega t \\right)} - \\Omega^{2} \\left(1 - r^{2}\\right) \\sin{\\left(\\Omega t \\right)}\\right)}{4 \\xi^{2} r^{2} + r^{4} - 2 r^{2} + 1} + \\xi^{2} w_{n}^{2} \\left(A \\cos{\\left(w_{d} t \\right)} + B \\sin{\\left(w_{d} t \\right)}\\right) e^{- \\xi w_{n} t} - 2 \\xi w_{n} \\left(- A w_{d} \\sin{\\left(w_{d} t \\right)} + B w_{d} \\cos{\\left(w_{d} t \\right)}\\right) e^{- \\xi w_{n} t} + \\left(- A w_{d}^{2} \\cos{\\left(w_{d} t \\right)} - B w_{d}^{2} \\sin{\\left(w_{d} t \\right)}\\right) e^{- \\xi w_{n} t} \n",
       "$"
      ],
      "text/plain": [
       "<IPython.core.display.Math object>"
      ]
     },
     "metadata": {},
     "output_type": "display_data"
    },
    {
     "data": {
      "text/latex": [
       "$\\displaystyle \\textrm{Given the boundary conditions, find the coefficients: }$"
      ],
      "text/plain": [
       "<IPython.core.display.Math object>"
      ]
     },
     "metadata": {},
     "output_type": "display_data"
    },
    {
     "data": {
      "text/latex": [
       "$\\displaystyle \\frac{U_{est} \\left(- 2 \\xi r \\cos{\\left(\\Omega t_{0} \\right)} + \\left(1 - r^{2}\\right) \\sin{\\left(\\Omega t_{0} \\right)}\\right)}{4 \\xi^{2} r^{2} + r^{4} - 2 r^{2} + 1} - U_{0} + \\left(A \\cos{\\left(w_{d} t_{0} \\right)} + B \\sin{\\left(w_{d} t_{0} \\right)}\\right) e^{- \\xi w_{n} t_{0}} = 0 \n",
       "$"
      ],
      "text/plain": [
       "<IPython.core.display.Math object>"
      ]
     },
     "metadata": {},
     "output_type": "display_data"
    },
    {
     "data": {
      "text/latex": [
       "$\\displaystyle \\frac{U_{est} \\left(2 \\Omega \\xi r \\sin{\\left(\\Omega t_{0} \\right)} + \\Omega \\left(1 - r^{2}\\right) \\cos{\\left(\\Omega t_{0} \\right)}\\right)}{4 \\xi^{2} r^{2} + r^{4} - 2 r^{2} + 1} - \\dot{U}_0 - \\xi w_{n} \\left(A \\cos{\\left(w_{d} t_{0} \\right)} + B \\sin{\\left(w_{d} t_{0} \\right)}\\right) e^{- \\xi w_{n} t_{0}} + \\left(- A w_{d} \\sin{\\left(w_{d} t_{0} \\right)} + B w_{d} \\cos{\\left(w_{d} t_{0} \\right)}\\right) e^{- \\xi w_{n} t_{0}} = 0 \n",
       "$"
      ],
      "text/plain": [
       "<IPython.core.display.Math object>"
      ]
     },
     "metadata": {},
     "output_type": "display_data"
    },
    {
     "data": {
      "text/latex": [
       "$\\displaystyle \\textrm{System of equations to solve: }$"
      ],
      "text/plain": [
       "<IPython.core.display.Math object>"
      ]
     },
     "metadata": {},
     "output_type": "display_data"
    },
    {
     "data": {
      "text/latex": [
       "$\\displaystyle A - \\frac{2 U_{est} \\xi r}{4 \\xi^{2} r^{2} + r^{4} - 2 r^{2} + 1} - U_{0} = 0 \n",
       "$"
      ],
      "text/plain": [
       "<IPython.core.display.Math object>"
      ]
     },
     "metadata": {},
     "output_type": "display_data"
    },
    {
     "data": {
      "text/latex": [
       "$\\displaystyle - A \\xi w_{n} + B w_{d} + \\frac{U_{est} \\Omega \\left(1 - r^{2}\\right)}{4 \\xi^{2} r^{2} + r^{4} - 2 r^{2} + 1} - \\dot{U}_0 = 0 \n",
       "$"
      ],
      "text/plain": [
       "<IPython.core.display.Math object>"
      ]
     },
     "metadata": {},
     "output_type": "display_data"
    },
    {
     "data": {
      "text/latex": [
       "$\\displaystyle \\textrm{Coeficientes encontrados: }$"
      ],
      "text/plain": [
       "<IPython.core.display.Math object>"
      ]
     },
     "metadata": {},
     "output_type": "display_data"
    },
    {
     "data": {
      "text/latex": [
       "$\\displaystyle A = \\frac{2 U_{est} \\xi r + 4 \\xi^{2} r^{2} U_{0} + r^{4} U_{0} - 2 r^{2} U_{0} + U_{0}}{4 \\xi^{2} r^{2} + r^{4} - 2 r^{2} + 1} \n",
       "$"
      ],
      "text/plain": [
       "<IPython.core.display.Math object>"
      ]
     },
     "metadata": {},
     "output_type": "display_data"
    },
    {
     "data": {
      "text/latex": [
       "$\\displaystyle B = \\frac{U_{est} \\Omega r^{2} - U_{est} \\Omega + 2 U_{est} \\xi^{2} r w_{n} + 4 \\dot{U}_0 \\xi^{2} r^{2} + \\dot{U}_0 r^{4} - 2 \\dot{U}_0 r^{2} + \\dot{U}_0 + 4 \\xi^{3} r^{2} w_{n} U_{0} + \\xi r^{4} w_{n} U_{0} - 2 \\xi r^{2} w_{n} U_{0} + \\xi w_{n} U_{0}}{w_{d} \\left(4 \\xi^{2} r^{2} + r^{4} - 2 r^{2} + 1\\right)} \n",
       "$"
      ],
      "text/plain": [
       "<IPython.core.display.Math object>"
      ]
     },
     "metadata": {},
     "output_type": "display_data"
    },
    {
     "data": {
      "text/latex": [
       "$\\displaystyle \\textrm{Final solutions:}$"
      ],
      "text/plain": [
       "<IPython.core.display.Math object>"
      ]
     },
     "metadata": {},
     "output_type": "display_data"
    },
    {
     "data": {
      "text/latex": [
       "$\\displaystyle U = \\frac{\\left(- U_{est} w_{d} \\left(2 \\xi r \\cos{\\left(\\Omega t \\right)} + \\left(r^{2} - 1\\right) \\sin{\\left(\\Omega t \\right)}\\right) e^{\\xi w_{n} t} + w_{d} \\left(2 U_{est} \\xi r + 4 \\xi^{2} r^{2} U_{0} + r^{4} U_{0} - 2 r^{2} U_{0} + U_{0}\\right) \\cos{\\left(w_{d} t \\right)} + \\left(U_{est} \\Omega r^{2} - U_{est} \\Omega + 2 U_{est} \\xi^{2} r w_{n} + 4 \\dot{U}_0 \\xi^{2} r^{2} + \\dot{U}_0 r^{4} - 2 \\dot{U}_0 r^{2} + \\dot{U}_0 + 4 \\xi^{3} r^{2} w_{n} U_{0} + \\xi r^{4} w_{n} U_{0} - 2 \\xi r^{2} w_{n} U_{0} + \\xi w_{n} U_{0}\\right) \\sin{\\left(w_{d} t \\right)}\\right) e^{- \\xi w_{n} t}}{w_{d} \\left(4 \\xi^{2} r^{2} + r^{4} - 2 r^{2} + 1\\right)} \n",
       "$"
      ],
      "text/plain": [
       "<IPython.core.display.Math object>"
      ]
     },
     "metadata": {},
     "output_type": "display_data"
    },
    {
     "data": {
      "text/latex": [
       "$\\displaystyle \\dot{U} = \\frac{\\left(U_{est} \\Omega w_{d} \\left(2 \\xi r \\sin{\\left(\\Omega t \\right)} + \\left(1 - r^{2}\\right) \\cos{\\left(\\Omega t \\right)}\\right) e^{\\xi w_{n} t} - \\xi w_{n} \\left(w_{d} \\left(2 U_{est} \\xi r + 4 \\xi^{2} r^{2} U_{0} + r^{4} U_{0} - 2 r^{2} U_{0} + U_{0}\\right) \\cos{\\left(w_{d} t \\right)} + \\left(U_{est} \\Omega r^{2} - U_{est} \\Omega + 2 U_{est} \\xi^{2} r w_{n} + 4 \\dot{U}_0 \\xi^{2} r^{2} + \\dot{U}_0 r^{4} - 2 \\dot{U}_0 r^{2} + \\dot{U}_0 + 4 \\xi^{3} r^{2} w_{n} U_{0} + \\xi r^{4} w_{n} U_{0} - 2 \\xi r^{2} w_{n} U_{0} + \\xi w_{n} U_{0}\\right) \\sin{\\left(w_{d} t \\right)}\\right) + w_{d} \\left(- w_{d} \\left(2 U_{est} \\xi r + 4 \\xi^{2} r^{2} U_{0} + r^{4} U_{0} - 2 r^{2} U_{0} + U_{0}\\right) \\sin{\\left(w_{d} t \\right)} + \\left(U_{est} \\Omega r^{2} - U_{est} \\Omega + 2 U_{est} \\xi^{2} r w_{n} + 4 \\dot{U}_0 \\xi^{2} r^{2} + \\dot{U}_0 r^{4} - 2 \\dot{U}_0 r^{2} + \\dot{U}_0 + 4 \\xi^{3} r^{2} w_{n} U_{0} + \\xi r^{4} w_{n} U_{0} - 2 \\xi r^{2} w_{n} U_{0} + \\xi w_{n} U_{0}\\right) \\cos{\\left(w_{d} t \\right)}\\right)\\right) e^{- \\xi w_{n} t}}{w_{d} \\left(4 \\xi^{2} r^{2} + r^{4} - 2 r^{2} + 1\\right)} \n",
       "$"
      ],
      "text/plain": [
       "<IPython.core.display.Math object>"
      ]
     },
     "metadata": {},
     "output_type": "display_data"
    },
    {
     "data": {
      "text/latex": [
       "$\\displaystyle \\ddot{U} = \\frac{\\left(U_{est} \\Omega^{2} w_{d} \\left(2 \\xi r \\cos{\\left(\\Omega t \\right)} + \\left(r^{2} - 1\\right) \\sin{\\left(\\Omega t \\right)}\\right) e^{\\xi w_{n} t} + \\xi^{2} w_{n}^{2} \\left(w_{d} \\left(2 U_{est} \\xi r + 4 \\xi^{2} r^{2} U_{0} + r^{4} U_{0} - 2 r^{2} U_{0} + U_{0}\\right) \\cos{\\left(w_{d} t \\right)} + \\left(U_{est} \\Omega r^{2} - U_{est} \\Omega + 2 U_{est} \\xi^{2} r w_{n} + 4 \\dot{U}_0 \\xi^{2} r^{2} + \\dot{U}_0 r^{4} - 2 \\dot{U}_0 r^{2} + \\dot{U}_0 + 4 \\xi^{3} r^{2} w_{n} U_{0} + \\xi r^{4} w_{n} U_{0} - 2 \\xi r^{2} w_{n} U_{0} + \\xi w_{n} U_{0}\\right) \\sin{\\left(w_{d} t \\right)}\\right) + w_{d} \\left(2 \\xi w_{n} \\left(w_{d} \\left(2 U_{est} \\xi r + 4 \\xi^{2} r^{2} U_{0} + r^{4} U_{0} - 2 r^{2} U_{0} + U_{0}\\right) \\sin{\\left(w_{d} t \\right)} + \\left(- U_{est} \\Omega r^{2} + U_{est} \\Omega - 2 U_{est} \\xi^{2} r w_{n} - 4 \\dot{U}_0 \\xi^{2} r^{2} - \\dot{U}_0 r^{4} + 2 \\dot{U}_0 r^{2} - \\dot{U}_0 - 4 \\xi^{3} r^{2} w_{n} U_{0} - \\xi r^{4} w_{n} U_{0} + 2 \\xi r^{2} w_{n} U_{0} - \\xi w_{n} U_{0}\\right) \\cos{\\left(w_{d} t \\right)}\\right) - w_{d}^{2} \\left(2 U_{est} \\xi r + 4 \\xi^{2} r^{2} U_{0} + r^{4} U_{0} - 2 r^{2} U_{0} + U_{0}\\right) \\cos{\\left(w_{d} t \\right)} - w_{d} \\left(U_{est} \\Omega r^{2} - U_{est} \\Omega + 2 U_{est} \\xi^{2} r w_{n} + 4 \\dot{U}_0 \\xi^{2} r^{2} + \\dot{U}_0 r^{4} - 2 \\dot{U}_0 r^{2} + \\dot{U}_0 + 4 \\xi^{3} r^{2} w_{n} U_{0} + \\xi r^{4} w_{n} U_{0} - 2 \\xi r^{2} w_{n} U_{0} + \\xi w_{n} U_{0}\\right) \\sin{\\left(w_{d} t \\right)}\\right)\\right) e^{- \\xi w_{n} t}}{w_{d} \\left(4 \\xi^{2} r^{2} + r^{4} - 2 r^{2} + 1\\right)} \n",
       "$"
      ],
      "text/plain": [
       "<IPython.core.display.Math object>"
      ]
     },
     "metadata": {},
     "output_type": "display_data"
    }
   ],
   "source": [
    "Uuo, Uvo, Uao = sp.symbols('zU_0, \\\\dot{U}_0, \\\\ddot{U}_0')\n",
    "\n",
    "# ----------- Damped free vibration -----------\n",
    "# Diferential equation\n",
    "print_text('Governing differential equation: ')\n",
    "ed = m * Ua + c * Uv + k * Uu\n",
    "print_math(ed, '', '0')\n",
    "print_text('Solution shape: ')\n",
    "Us = (A * sp.cos(wd * t) + B * sp.sin(wd * t)) * sp.exp(-z*wn*t) + Ups\n",
    "print_math(Us, 'U')\n",
    "Vs = sp.diff(Us, t)\n",
    "print_math(Vs, '\\\\dot{U}')\n",
    "As = sp.diff(Vs, t)\n",
    "print_math(As, '\\\\ddot{U}')\n",
    "\n",
    "print_text('Given the boundary conditions, find the coefficients: ')\n",
    "Uso = Us - Uuo\n",
    "Uso = Uso.subs(t, to)\n",
    "print_math(Uso, '', '0')\n",
    "Uso = Uso.subs(to, 0)\n",
    "Vso = Vs - Uvo\n",
    "Vso = Vso.subs(t, to)\n",
    "print_math(Vso, '', '0')\n",
    "Vso = Vso.subs(to, 0)\n",
    "\n",
    "print_text('System of equations to solve: ')\n",
    "print_math(Uso, '', '0')\n",
    "print_math(Vso, '', '0')\n",
    "\n",
    "\n",
    "print_text('Coeficientes encontrados: ')\n",
    "coeff_sol = sp.solve([Uso, Vso], [A, B])\n",
    "for coeff in coeff_sol:\n",
    "    coeff_sol[coeff] = sp.simplify(sp.factor(coeff_sol[coeff]))\n",
    "    print_math(coeff_sol[coeff], sp.latex(coeff))\n",
    "\n",
    "print_text('Final solutions:')\n",
    "Uu = sp.simplify(Us.subs(coeff_sol))\n",
    "print_math(Uu, 'U')\n",
    "Uv = sp.simplify(Vs.subs(coeff_sol))\n",
    "print_math(Uv, '\\\\dot{U}')\n",
    "Ua = sp.simplify(As.subs(coeff_sol))\n",
    "print_math(Ua, '\\\\ddot{U}')\n"
   ]
  },
  {
   "cell_type": "markdown",
   "metadata": {},
   "source": [
    "## Translating the final solutions to Matlab"
   ]
  },
  {
   "cell_type": "code",
   "execution_count": 72,
   "metadata": {},
   "outputs": [
    {
     "name": "stdout",
     "output_type": "stream",
     "text": [
      "Original: \n",
      "(-U_{est}*w_d*(2*a\\xi*r*cos(\\Omega*zt) + (r^2 - 1)*sin(\\Omega*zt))*exp(a\\xi*w_n*zt) + w_d*(2*U_{est}*a\\xi*r + 4*a\\xi^2*r^2*zU_0 + r^4*zU_0 - 2*r^2*zU_0 + zU_0)*cos(w_d*zt) + (U_{est}*\\Omega*r^2 - U_{est}*\\Omega + 2*U_{est}*a\\xi^2*r*w_n + 4*\\dot{U}_0*a\\xi^2*r^2 + \\dot{U}_0*r^4 - 2*\\dot{U}_0*r^2 + \\dot{U}_0 + 4*a\\xi^3*r^2*w_n*zU_0 + a\\xi*r^4*w_n*zU_0 - 2*a\\xi*r^2*w_n*zU_0 + a\\xi*w_n*zU_0)*sin(w_d*zt))*exp(-a\\xi*w_n*zt)/(w_d*(4*a\\xi^2*r^2 + r^4 - 2*r^2 + 1))\n",
      "Matlab expression: \n",
      "(-Uest*wd*(2*z*r*cos(Ome*t) + (r^2 - 1)*sin(Ome*t))*exp(z*wn*t) + wd*(2*Uest*z*r + 4*z^2*r^2*Uo + r^4*Uo - 2*r^2*Uo + Uo)*cos(wd*t) + (Uest*Ome*r^2 - Uest*Ome + 2*Uest*z^2*r*wn + 4*Vo*z^2*r^2 + Vo*r^4 - 2*Vo*r^2 + Vo + 4*z^3*r^2*wn*Uo + z*r^4*wn*Uo - 2*z*r^2*wn*Uo + z*wn*Uo)*sin(wd*t))*exp(-z*wn*t)/(wd*(4*z^2*r^2 + r^4 - 2*r^2 + 1))\n"
     ]
    }
   ],
   "source": [
    "U_str = str(Uu)\n",
    "V_str = sp.latex(Uv)\n",
    "A_str = sp.latex(Ua)\n",
    "\n",
    "U_str = U_str.replace('**', '^')\n",
    "used_symbols =  Uu.atoms(sp.Symbol)\n",
    "\n",
    "rep_map = {\n",
    "    'w_n': 'wn',\n",
    "    '\\\\Omega' : 'Ome',\n",
    "    'zU_0' : 'Uo',\n",
    "    'r' : 'r',\n",
    "    'w_d' : 'wd',\n",
    "    'zt' : 't',\n",
    "    'U_{est}' : 'Uest',\n",
    "    '\\\\dot{U}_0' : 'Vo',\n",
    "    'a\\\\xi' : 'z',\n",
    "}\n",
    "\n",
    "print('Original: ')\n",
    "print(U_str)\n",
    "\n",
    "for sym in used_symbols:\n",
    "    U_str = U_str.replace(str(sym), rep_map[str(sym)])\n",
    "\n",
    "print('Matlab expression: ')\n",
    "print(U_str)\n"
   ]
  },
  {
   "cell_type": "code",
   "execution_count": null,
   "metadata": {},
   "outputs": [],
   "source": []
  }
 ],
 "metadata": {
  "interpreter": {
   "hash": "c1570cb01023495b88d5f2a86fafcaa6d2215aa1bbe8341a42b1f095fd49409b"
  },
  "kernelspec": {
   "display_name": "Python 3.9.6 64-bit",
   "language": "python",
   "name": "python3"
  },
  "language_info": {
   "codemirror_mode": {
    "name": "ipython",
    "version": 3
   },
   "file_extension": ".py",
   "mimetype": "text/x-python",
   "name": "python",
   "nbconvert_exporter": "python",
   "pygments_lexer": "ipython3",
   "version": "3.9.6"
  },
  "orig_nbformat": 4
 },
 "nbformat": 4,
 "nbformat_minor": 2
}
