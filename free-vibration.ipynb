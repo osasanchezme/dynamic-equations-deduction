{
 "cells": [
  {
   "cell_type": "code",
   "execution_count": 2,
   "metadata": {},
   "outputs": [],
   "source": [
    "import sympy as sp\n",
    "from IPython.display import display, Math\n",
    "\n",
    "def print_math(sympy_exp, pre_symbol = '', post_symbol = ''):\n",
    "    # Map some symbols to be reaplaced before printing to keep desired order\n",
    "    rep_map = {\n",
    "        'zt': 't',\n",
    "        'zU': 'U',\n",
    "        'z\\\\dot{U}': '\\\\dot{U}',\n",
    "        'z\\\\ddot{U}': '\\\\ddot{U}',\n",
    "        'a\\\\xi': '\\\\xi',\n",
    "        'am': 'm',\n",
    "        'bc': 'c',\n",
    "    }\n",
    "    latex_str = sp.latex(sympy_exp)\n",
    "    for old_str in rep_map:\n",
    "        latex_str = str(latex_str).replace(old_str, rep_map[old_str])\n",
    "    if pre_symbol != '':\n",
    "        latex_str = pre_symbol + ' = ' + latex_str\n",
    "    if post_symbol != '':\n",
    "        latex_str = latex_str + ' = ' + post_symbol\n",
    "\n",
    "    display(Math(f'{latex_str} \\n'))\n",
    "\n",
    "def print_text(text_str):\n",
    "    display(Math(f'\\\\textrm{{{text_str}}}'))"
   ]
  },
  {
   "cell_type": "code",
   "execution_count": 3,
   "metadata": {},
   "outputs": [
    {
     "data": {
      "text/latex": [
       "$\\displaystyle \\textrm{Governing differential equation: }$"
      ],
      "text/plain": [
       "<IPython.core.display.Math object>"
      ]
     },
     "metadata": {},
     "output_type": "display_data"
    },
    {
     "data": {
      "text/latex": [
       "$\\displaystyle m \\ddot{U} + c \\dot{U} + k U = 0 \n",
       "$"
      ],
      "text/plain": [
       "<IPython.core.display.Math object>"
      ]
     },
     "metadata": {},
     "output_type": "display_data"
    },
    {
     "data": {
      "text/latex": [
       "$\\displaystyle \\textrm{Solution shape: }$"
      ],
      "text/plain": [
       "<IPython.core.display.Math object>"
      ]
     },
     "metadata": {},
     "output_type": "display_data"
    },
    {
     "data": {
      "text/latex": [
       "$\\displaystyle U = \\left(A \\cos{\\left(w_{d} t \\right)} + B \\sin{\\left(w_{d} t \\right)}\\right) e^{- \\xi w_{n} t} \n",
       "$"
      ],
      "text/plain": [
       "<IPython.core.display.Math object>"
      ]
     },
     "metadata": {},
     "output_type": "display_data"
    },
    {
     "data": {
      "text/latex": [
       "$\\displaystyle \\dot{U} = - \\xi w_{n} \\left(A \\cos{\\left(w_{d} t \\right)} + B \\sin{\\left(w_{d} t \\right)}\\right) e^{- \\xi w_{n} t} + \\left(- A w_{d} \\sin{\\left(w_{d} t \\right)} + B w_{d} \\cos{\\left(w_{d} t \\right)}\\right) e^{- \\xi w_{n} t} \n",
       "$"
      ],
      "text/plain": [
       "<IPython.core.display.Math object>"
      ]
     },
     "metadata": {},
     "output_type": "display_data"
    },
    {
     "data": {
      "text/latex": [
       "$\\displaystyle \\ddot{U} = \\xi^{2} w_{n}^{2} \\left(A \\cos{\\left(w_{d} t \\right)} + B \\sin{\\left(w_{d} t \\right)}\\right) e^{- \\xi w_{n} t} - 2 \\xi w_{n} \\left(- A w_{d} \\sin{\\left(w_{d} t \\right)} + B w_{d} \\cos{\\left(w_{d} t \\right)}\\right) e^{- \\xi w_{n} t} + \\left(- A w_{d}^{2} \\cos{\\left(w_{d} t \\right)} - B w_{d}^{2} \\sin{\\left(w_{d} t \\right)}\\right) e^{- \\xi w_{n} t} \n",
       "$"
      ],
      "text/plain": [
       "<IPython.core.display.Math object>"
      ]
     },
     "metadata": {},
     "output_type": "display_data"
    },
    {
     "data": {
      "text/latex": [
       "$\\displaystyle \\textrm{Given the boundary conditions, find the coefficients: }$"
      ],
      "text/plain": [
       "<IPython.core.display.Math object>"
      ]
     },
     "metadata": {},
     "output_type": "display_data"
    },
    {
     "data": {
      "text/latex": [
       "$\\displaystyle - U_{0} + \\left(A \\cos{\\left(w_{d} t_{0} \\right)} + B \\sin{\\left(w_{d} t_{0} \\right)}\\right) e^{- \\xi w_{n} t_{0}} = 0 \n",
       "$"
      ],
      "text/plain": [
       "<IPython.core.display.Math object>"
      ]
     },
     "metadata": {},
     "output_type": "display_data"
    },
    {
     "data": {
      "text/latex": [
       "$\\displaystyle - \\dot{U}_0 - \\xi w_{n} \\left(A \\cos{\\left(w_{d} t_{0} \\right)} + B \\sin{\\left(w_{d} t_{0} \\right)}\\right) e^{- \\xi w_{n} t_{0}} + \\left(- A w_{d} \\sin{\\left(w_{d} t_{0} \\right)} + B w_{d} \\cos{\\left(w_{d} t_{0} \\right)}\\right) e^{- \\xi w_{n} t_{0}} = 0 \n",
       "$"
      ],
      "text/plain": [
       "<IPython.core.display.Math object>"
      ]
     },
     "metadata": {},
     "output_type": "display_data"
    },
    {
     "data": {
      "text/latex": [
       "$\\displaystyle A - U_{0} = 0 \n",
       "$"
      ],
      "text/plain": [
       "<IPython.core.display.Math object>"
      ]
     },
     "metadata": {},
     "output_type": "display_data"
    },
    {
     "data": {
      "text/latex": [
       "$\\displaystyle - A \\xi w_{n} + B w_{d} - \\dot{U}_0 = 0 \n",
       "$"
      ],
      "text/plain": [
       "<IPython.core.display.Math object>"
      ]
     },
     "metadata": {},
     "output_type": "display_data"
    },
    {
     "data": {
      "text/latex": [
       "$\\displaystyle A = U_{0} \n",
       "$"
      ],
      "text/plain": [
       "<IPython.core.display.Math object>"
      ]
     },
     "metadata": {},
     "output_type": "display_data"
    },
    {
     "data": {
      "text/latex": [
       "$\\displaystyle B = \\frac{\\dot{U}_0 + \\xi w_{n} U_{0}}{w_{d}} \n",
       "$"
      ],
      "text/plain": [
       "<IPython.core.display.Math object>"
      ]
     },
     "metadata": {},
     "output_type": "display_data"
    },
    {
     "data": {
      "text/latex": [
       "$\\displaystyle \\textrm{Final solutions:}$"
      ],
      "text/plain": [
       "<IPython.core.display.Math object>"
      ]
     },
     "metadata": {},
     "output_type": "display_data"
    },
    {
     "data": {
      "text/latex": [
       "$\\displaystyle U = \\left(U_{0} \\cos{\\left(w_{d} t \\right)} + \\frac{\\left(\\dot{U}_0 + \\xi w_{n} U_{0}\\right) \\sin{\\left(w_{d} t \\right)}}{w_{d}}\\right) e^{- \\xi w_{n} t} \n",
       "$"
      ],
      "text/plain": [
       "<IPython.core.display.Math object>"
      ]
     },
     "metadata": {},
     "output_type": "display_data"
    },
    {
     "data": {
      "text/latex": [
       "$\\displaystyle \\dot{U} = - \\xi w_{n} \\left(U_{0} \\cos{\\left(w_{d} t \\right)} + \\frac{\\left(\\dot{U}_0 + \\xi w_{n} U_{0}\\right) \\sin{\\left(w_{d} t \\right)}}{w_{d}}\\right) e^{- \\xi w_{n} t} + \\left(- w_{d} U_{0} \\sin{\\left(w_{d} t \\right)} + \\left(\\dot{U}_0 + \\xi w_{n} U_{0}\\right) \\cos{\\left(w_{d} t \\right)}\\right) e^{- \\xi w_{n} t} \n",
       "$"
      ],
      "text/plain": [
       "<IPython.core.display.Math object>"
      ]
     },
     "metadata": {},
     "output_type": "display_data"
    },
    {
     "data": {
      "text/latex": [
       "$\\displaystyle \\ddot{U} = \\xi^{2} w_{n}^{2} \\left(U_{0} \\cos{\\left(w_{d} t \\right)} + \\frac{\\left(\\dot{U}_0 + \\xi w_{n} U_{0}\\right) \\sin{\\left(w_{d} t \\right)}}{w_{d}}\\right) e^{- \\xi w_{n} t} - 2 \\xi w_{n} \\left(- w_{d} U_{0} \\sin{\\left(w_{d} t \\right)} + \\left(\\dot{U}_0 + \\xi w_{n} U_{0}\\right) \\cos{\\left(w_{d} t \\right)}\\right) e^{- \\xi w_{n} t} + \\left(- w_{d}^{2} U_{0} \\cos{\\left(w_{d} t \\right)} - w_{d} \\left(\\dot{U}_0 + \\xi w_{n} U_{0}\\right) \\sin{\\left(w_{d} t \\right)}\\right) e^{- \\xi w_{n} t} \n",
       "$"
      ],
      "text/plain": [
       "<IPython.core.display.Math object>"
      ]
     },
     "metadata": {},
     "output_type": "display_data"
    }
   ],
   "source": [
    "Uu, Uv, Ua, A, B, wn, wd, t, m, k, to, z, c = sp.symbols('zU, z\\\\dot{U}, z\\\\ddot{U}, A, B, w_n, w_d, zt, am, k, zt_0, a\\\\xi, bc')\n",
    "\n",
    "Uuo, Uvo, Uao = sp.symbols('zU_0, \\\\dot{U}_0, \\\\ddot{U}_0')\n",
    "\n",
    "# ----------- Non-damped free vibration -----------\n",
    "# Diferential equation\n",
    "# print_text('Governing differential equation: ')\n",
    "# ed = m * Ua + k * Uu\n",
    "# print_math(ed, '', '0')\n",
    "# print_text('Solution shape: ')\n",
    "# Us = A * sp.cos(wn * t) + B * sp.sin(wn * t)\n",
    "# print_math(Us, 'U')\n",
    "# Vs = sp.diff(Us, t)\n",
    "# print_math(Vs, '\\\\dot{U}')\n",
    "# As = sp.diff(Vs, t)\n",
    "# print_math(As, '\\\\ddot{U}')\n",
    "\n",
    "# ----------- Damped free vibration -----------\n",
    "# Diferential equation\n",
    "print_text('Governing differential equation: ')\n",
    "ed = m * Ua + c * Uv + k * Uu\n",
    "print_math(ed, '', '0')\n",
    "print_text('Solution shape: ')\n",
    "Us = (A * sp.cos(wd * t) + B * sp.sin(wd * t)) * sp.exp(-z*wn*t)\n",
    "print_math(Us, 'U')\n",
    "Vs = sp.diff(Us, t)\n",
    "print_math(Vs, '\\\\dot{U}')\n",
    "As = sp.diff(Vs, t)\n",
    "print_math(As, '\\\\ddot{U}')\n",
    "\n",
    "print_text('Given the boundary conditions, find the coefficients: ')\n",
    "Uso = Us - Uuo\n",
    "Uso = Uso.subs(t, to)\n",
    "print_math(Uso, '', '0')\n",
    "Uso = Uso.subs(to, 0)\n",
    "Vso = Vs - Uvo\n",
    "Vso = Vso.subs(t, to)\n",
    "print_math(Vso, '', '0')\n",
    "Vso = Vso.subs(to, 0)\n",
    "\n",
    "print_math(Uso, '', '0')\n",
    "print_math(Vso, '', '0')\n",
    "\n",
    "coeff_sol = sp.solve([Uso, Vso], [A, B])\n",
    "for coeff in coeff_sol:\n",
    "    print_math(coeff_sol[coeff], sp.latex(coeff))\n",
    "\n",
    "print_text('Final solutions:')\n",
    "Uu = Us.subs(coeff_sol)\n",
    "print_math(Uu, 'U')\n",
    "Uv = Vs.subs(coeff_sol)\n",
    "print_math(Uv, '\\\\dot{U}')\n",
    "Ua = As.subs(coeff_sol)\n",
    "print_math(Ua, '\\\\ddot{U}')\n"
   ]
  },
  {
   "cell_type": "code",
   "execution_count": null,
   "metadata": {},
   "outputs": [],
   "source": []
  }
 ],
 "metadata": {
  "interpreter": {
   "hash": "c1570cb01023495b88d5f2a86fafcaa6d2215aa1bbe8341a42b1f095fd49409b"
  },
  "kernelspec": {
   "display_name": "Python 3.9.6 64-bit",
   "language": "python",
   "name": "python3"
  },
  "language_info": {
   "codemirror_mode": {
    "name": "ipython",
    "version": 3
   },
   "file_extension": ".py",
   "mimetype": "text/x-python",
   "name": "python",
   "nbconvert_exporter": "python",
   "pygments_lexer": "ipython3",
   "version": "3.9.6"
  },
  "orig_nbformat": 4
 },
 "nbformat": 4,
 "nbformat_minor": 2
}
