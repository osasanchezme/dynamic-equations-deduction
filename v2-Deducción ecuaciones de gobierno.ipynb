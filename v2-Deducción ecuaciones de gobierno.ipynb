{
 "cells": [
  {
   "cell_type": "markdown",
   "metadata": {},
   "source": [
    "## Funciones de utilidad"
   ]
  },
  {
   "cell_type": "code",
   "execution_count": 17,
   "metadata": {},
   "outputs": [],
   "source": [
    "import sympy as sp\n",
    "from IPython.display import display, Math\n",
    "\n",
    "def print_math(sympy_exp, pre_symbol = '', post_symbol = '', convert_pre_post = False):\n",
    "    # Map some symbols to be reaplaced before printing to keep desired order\n",
    "    rep_map = {\n",
    "        'zt': 't',\n",
    "        'zU_p': 'U_p',\n",
    "        'z\\\\dot{U}_p': '\\\\dot{U}_p',\n",
    "        'z\\\\ddot{U}_p': '\\\\ddot{U}_p',\n",
    "        'zU': 'U',\n",
    "        'z\\\\dot{U}': '\\\\dot{U}',\n",
    "        'z\\\\ddot{U}': '\\\\ddot{U}',\n",
    "        'a\\\\xi': '\\\\xi',\n",
    "        'am': 'm',\n",
    "        'bc': 'c',\n",
    "    }\n",
    "    latex_str = sp.latex(sympy_exp)\n",
    "    if convert_pre_post:\n",
    "        pre_symbol_latex = sp.latex(pre_symbol)\n",
    "        post_symbol_latex = sp.latex(post_symbol)\n",
    "    for old_str in rep_map:\n",
    "        latex_str = str(latex_str).replace(old_str, rep_map[old_str])\n",
    "        if pre_symbol != '' and convert_pre_post:\n",
    "            pre_symbol_latex = pre_symbol_latex.replace(old_str, rep_map[old_str])\n",
    "        if post_symbol != '' and convert_pre_post:\n",
    "            post_symbol_latex = post_symbol_latex.replace(old_str, rep_map[old_str])\n",
    "            \n",
    "    # if pre_symbol != '' and convert_pre_post:\n",
    "    #     pre_symbol = pre_symbol_latex\n",
    "    # if post_symbol != '' and convert_pre_post:\n",
    "    #     post_symbol = post_symbol_latex\n",
    "        \n",
    "    if pre_symbol != '':\n",
    "        if convert_pre_post:\n",
    "            pre_symbol = pre_symbol_latex\n",
    "        latex_str = pre_symbol + ' = ' + latex_str\n",
    "    if post_symbol != '':\n",
    "        if convert_pre_post:\n",
    "            post_symbol = post_symbol_latex\n",
    "        latex_str = latex_str + ' = ' + post_symbol\n",
    "    # print(latex_str)\n",
    "    display(Math(f'{latex_str} \\n'))\n",
    "\n",
    "def print_text(text_str):\n",
    "    display(Math(f'\\\\textrm{{{text_str}}}'))"
   ]
  },
  {
   "cell_type": "markdown",
   "metadata": {},
   "source": [
    "## Encontrando la solución particular"
   ]
  },
  {
   "cell_type": "code",
   "execution_count": 18,
   "metadata": {},
   "outputs": [
    {
     "data": {
      "text/latex": [
       "$\\displaystyle \\textrm{Ecuacion diferencial de gobierno: }$"
      ],
      "text/plain": [
       "<IPython.core.display.Math object>"
      ]
     },
     "metadata": {},
     "output_type": "display_data"
    },
    {
     "data": {
      "text/latex": [
       "$\\displaystyle m \\ddot{U} + c \\dot{U} + k U = F_{0} \\cos{\\left(\\Omega t \\right)} \n",
       "$"
      ],
      "text/plain": [
       "<IPython.core.display.Math object>"
      ]
     },
     "metadata": {},
     "output_type": "display_data"
    },
    {
     "data": {
      "text/latex": [
       "$\\displaystyle 2 \\xi w_{n} \\dot{U} + w_{n}^{2} U + \\ddot{U} = \\frac{F_{0} \\cos{\\left(\\Omega t \\right)}}{m} \n",
       "$"
      ],
      "text/plain": [
       "<IPython.core.display.Math object>"
      ]
     },
     "metadata": {},
     "output_type": "display_data"
    },
    {
     "data": {
      "text/latex": [
       "$\\displaystyle \\textrm{Forma de la solucion: }$"
      ],
      "text/plain": [
       "<IPython.core.display.Math object>"
      ]
     },
     "metadata": {},
     "output_type": "display_data"
    },
    {
     "data": {
      "text/latex": [
       "$\\displaystyle U_p = C_{1p} \\cos{\\left(\\Omega t \\right)} + C_{2p} \\sin{\\left(\\Omega t \\right)} \n",
       "$"
      ],
      "text/plain": [
       "<IPython.core.display.Math object>"
      ]
     },
     "metadata": {},
     "output_type": "display_data"
    },
    {
     "data": {
      "text/latex": [
       "$\\displaystyle \\dot{U_p} = - C_{1p} \\Omega \\sin{\\left(\\Omega t \\right)} + C_{2p} \\Omega \\cos{\\left(\\Omega t \\right)} \n",
       "$"
      ],
      "text/plain": [
       "<IPython.core.display.Math object>"
      ]
     },
     "metadata": {},
     "output_type": "display_data"
    },
    {
     "data": {
      "text/latex": [
       "$\\displaystyle \\ddot{U_p} = - C_{1p} \\Omega^{2} \\cos{\\left(\\Omega t \\right)} - C_{2p} \\Omega^{2} \\sin{\\left(\\Omega t \\right)} \n",
       "$"
      ],
      "text/plain": [
       "<IPython.core.display.Math object>"
      ]
     },
     "metadata": {},
     "output_type": "display_data"
    },
    {
     "data": {
      "text/latex": [
       "$\\displaystyle \\textrm{Reemplazando en la ecuacion diferencial: }$"
      ],
      "text/plain": [
       "<IPython.core.display.Math object>"
      ]
     },
     "metadata": {},
     "output_type": "display_data"
    },
    {
     "data": {
      "text/latex": [
       "$\\displaystyle - C_{1p} \\Omega^{2} \\cos{\\left(\\Omega t \\right)} - C_{2p} \\Omega^{2} \\sin{\\left(\\Omega t \\right)} + 2 \\xi w_{n} \\left(- C_{1p} \\Omega \\sin{\\left(\\Omega t \\right)} + C_{2p} \\Omega \\cos{\\left(\\Omega t \\right)}\\right) + w_{n}^{2} \\left(C_{1p} \\cos{\\left(\\Omega t \\right)} + C_{2p} \\sin{\\left(\\Omega t \\right)}\\right) = \\frac{F_{0} \\cos{\\left(\\Omega t \\right)}}{m} \n",
       "$"
      ],
      "text/plain": [
       "<IPython.core.display.Math object>"
      ]
     },
     "metadata": {},
     "output_type": "display_data"
    },
    {
     "data": {
      "text/latex": [
       "$\\displaystyle \\textrm{Introduciendo factores de simplificacion: }$"
      ],
      "text/plain": [
       "<IPython.core.display.Math object>"
      ]
     },
     "metadata": {},
     "output_type": "display_data"
    },
    {
     "data": {
      "text/latex": [
       "$\\displaystyle - 2 C_{1p} \\xi r \\sin{\\left(\\Omega t \\right)} - C_{1p} r^{2} \\cos{\\left(\\Omega t \\right)} + C_{1p} \\cos{\\left(\\Omega t \\right)} + 2 C_{2p} \\xi r \\cos{\\left(\\Omega t \\right)} - C_{2p} r^{2} \\sin{\\left(\\Omega t \\right)} + C_{2p} \\sin{\\left(\\Omega t \\right)} = U_{est} \\cos{\\left(\\Omega t \\right)} \n",
       "$"
      ],
      "text/plain": [
       "<IPython.core.display.Math object>"
      ]
     },
     "metadata": {},
     "output_type": "display_data"
    },
    {
     "data": {
      "text/latex": [
       "$\\displaystyle \\textrm{Coeficientes encontrados: }$"
      ],
      "text/plain": [
       "<IPython.core.display.Math object>"
      ]
     },
     "metadata": {},
     "output_type": "display_data"
    },
    {
     "data": {
      "text/latex": [
       "$\\displaystyle C_{1p} = \\frac{U_{est} \\left(1 - r^{2}\\right)}{4 \\xi^{2} r^{2} + r^{4} - 2 r^{2} + 1} \n",
       "$"
      ],
      "text/plain": [
       "<IPython.core.display.Math object>"
      ]
     },
     "metadata": {},
     "output_type": "display_data"
    },
    {
     "data": {
      "text/latex": [
       "$\\displaystyle C_{2p} = \\frac{2 U_{est} \\xi r}{4 \\xi^{2} r^{2} + r^{4} - 2 r^{2} + 1} \n",
       "$"
      ],
      "text/plain": [
       "<IPython.core.display.Math object>"
      ]
     },
     "metadata": {},
     "output_type": "display_data"
    },
    {
     "data": {
      "text/latex": [
       "$\\displaystyle U_p = C_{1p} \\cos{\\left(\\Omega t \\right)} + C_{2p} \\sin{\\left(\\Omega t \\right)} \n",
       "$"
      ],
      "text/plain": [
       "<IPython.core.display.Math object>"
      ]
     },
     "metadata": {},
     "output_type": "display_data"
    },
    {
     "data": {
      "text/latex": [
       "$\\displaystyle \\dot{U}_p = - C_{1p} \\Omega \\sin{\\left(\\Omega t \\right)} + C_{2p} \\Omega \\cos{\\left(\\Omega t \\right)} \n",
       "$"
      ],
      "text/plain": [
       "<IPython.core.display.Math object>"
      ]
     },
     "metadata": {},
     "output_type": "display_data"
    },
    {
     "data": {
      "text/latex": [
       "$\\displaystyle \\ddot{U}_p = - C_{1p} \\Omega^{2} \\cos{\\left(\\Omega t \\right)} - C_{2p} \\Omega^{2} \\sin{\\left(\\Omega t \\right)} \n",
       "$"
      ],
      "text/plain": [
       "<IPython.core.display.Math object>"
      ]
     },
     "metadata": {},
     "output_type": "display_data"
    }
   ],
   "source": [
    "# General symbols\n",
    "Uu, Uv, Ua, C1h, C2h, wn, wd, t, m, k, to, z, c, r, ts = sp.symbols('zU, z\\\\dot{U}, z\\\\ddot{U}, C_{1h}, C_{2h}, w_n, w_d, zt, am, k, zt_0, a\\\\xi, bc, r, tr')\n",
    "\n",
    "# Symbols for the particular solution\n",
    "Uup, Uvp, Uap, C1p, C2p, Uest = sp.symbols('zU_p, z\\\\dot{U}_p, z\\\\ddot{U}_p, C_{1p}, C_{2p}, U_{est}')\n",
    "\n",
    "# Symbols specific for the loading function\n",
    "Ome, Fo, a_fac = sp.symbols('\\Omega, F_0, a_{fac}')\n",
    "\n",
    "get_uest = True\n",
    "\n",
    "# Parts of the particular solution and external force -- Solve with an offset variable\n",
    "# Sine accel\n",
    "# part_factors = [sp.cos(Ome * t), sp.sin(Ome * t)]\n",
    "# part_cts = [C1p, C2p]\n",
    "# ext_force_orig = Fo * sp.sin(Ome*t)\n",
    "# ext_force = ext_force_orig\n",
    "\n",
    "# Cosine accel\n",
    "part_factors = [sp.cos(Ome * t), sp.sin(Ome * t)]\n",
    "part_cts = [C1p, C2p]\n",
    "ext_force_orig = Fo * sp.cos(Ome*t)\n",
    "ext_force = ext_force_orig\n",
    "\n",
    "# # Free vibration\n",
    "# part_factors = [1, 1]\n",
    "# part_cts = [C1p, C2p]\n",
    "# ext_force_orig = 0\n",
    "# ext_force = ext_force_orig\n",
    "\n",
    "# Constant\n",
    "# part_factors = [t, 1]\n",
    "# part_cts = [C2p, C1p]\n",
    "# ext_force_orig = Fo\n",
    "# ext_force = ext_force_orig\n",
    "\n",
    "# Linear acceleration (negative slope)\n",
    "# part_factors = [t, 1]\n",
    "# part_cts = [C2p, C1p]\n",
    "# ext_force_orig = Fo * (1 - t/(ts/2))\n",
    "# ext_force = ext_force_orig\n",
    "\n",
    "# Linear acceleration (negative slope - With offset)\n",
    "# part_factors = [t, 1]\n",
    "# part_cts = [C2p, C1p]\n",
    "# ext_force_orig = Fo * (1 - t/(ts/2)) + 0.5\n",
    "# ext_force_orig = Fo * (1.8 - 2.6*t/1.8)\n",
    "# ext_force_orig = Fo * (-0.6 + t)\n",
    "# ext_force = ext_force_orig\n",
    "# get_uest = True\n",
    "\n",
    "# Linear acceleration (positive slope)\n",
    "# part_factors = [t, 1]\n",
    "# part_cts = [C2p, C1p]\n",
    "# ext_force_orig = -Fo * (1 - t/(ts/2))\n",
    "# ext_force = ext_force_orig\n",
    "\n",
    "if ext_force != 0:\n",
    "    # Diferential equation\n",
    "    print_text('Ecuacion diferencial de gobierno: ')\n",
    "    ed = m * Ua + c * Uv + k * Uu # - Fo * sp.sin(Ome * t)\n",
    "    print_math(ed, '', ext_force, True)\n",
    "\n",
    "    # TODO Divide by m to make things easier and get \\xi and wn into play\n",
    "    ed = sp.expand(ed / m)\n",
    "    ed = ed.subs(c, 2*z*wn*m)\n",
    "    ed = ed.subs(k/m, wn**2)\n",
    "    ext_force = ext_force / m\n",
    "    print_math(ed, '', ext_force, True)\n",
    "\n",
    "    # Solution's shape for displacement, velocity and acceleration\n",
    "    print_text('Forma de la solucion: ')\n",
    "    Ups = (part_cts[0] * part_factors[0] + part_cts[1] * part_factors[1])\n",
    "    print_math(Ups, 'U_p',)\n",
    "    Vps = sp.diff(Ups, t)\n",
    "    print_math(Vps, '\\\\dot{U_p}')\n",
    "    Aps = sp.diff(Vps, t)\n",
    "    print_math(Aps, '\\\\ddot{U_p}')\n",
    "\n",
    "    # Plug solution function into the governing differential equation\n",
    "    print_text('Reemplazando en la ecuacion diferencial: ')\n",
    "    ed_rep = ed.subs({Uu: Ups, Uv: Vps, Ua: Aps})\n",
    "    print_math(ed_rep, '', ext_force, True)\n",
    "\n",
    "    # TODO Introduce the factor r = Ome/wn\n",
    "    print_text('Introduciendo factores de simplificacion: ')\n",
    "    if get_uest:\n",
    "        ed_rep = sp.expand(ed_rep / wn**2)\n",
    "        ed_rep = ed_rep.subs(Ome / wn, r)\n",
    "        ext_force = sp.expand(ext_force / wn**2)\n",
    "        ext_force = ext_force.subs(m * wn**2, k)\n",
    "        ext_force = ext_force.subs(Fo / k, Uest)\n",
    "    print_math(ed_rep, '', ext_force, True)\n",
    "\n",
    "    # Get the factors for each part of the function to solve it\n",
    "    factors_coeff = sp.reduced(ed_rep, part_factors)\n",
    "    factors_coeff_ext = sp.reduced(ext_force, part_factors)\n",
    "\n",
    "    # Create the system of equations\n",
    "    eqns = []\n",
    "    for i in range(len(factors_coeff[0])):\n",
    "        eqns.append(factors_coeff[0][i] - factors_coeff_ext[0][i])\n",
    "\n",
    "    # Solve the system of equations\n",
    "    sol = sp.solve(eqns, part_cts)\n",
    "\n",
    "    for cnt in part_cts:\n",
    "        if not cnt in sol:\n",
    "            sol[cnt] = 0\n",
    "\n",
    "    print_text('Coeficientes encontrados: ')\n",
    "    for res in sol:\n",
    "        sol[res] = sp.simplify(sp.factor(sol[res]))\n",
    "        print_math(sol[res], res, '', True)\n",
    "else:\n",
    "    Ups = 0\n",
    "    Vps = 0\n",
    "    Aps = 0\n",
    "    C1p = 0\n",
    "    C2p = 0\n",
    "\n",
    "print_math(Ups, 'U_p',)\n",
    "print_math(Vps, '\\\\dot{U}_p',)\n",
    "print_math(Aps, '\\\\ddot{U}_p',)"
   ]
  },
  {
   "cell_type": "markdown",
   "metadata": {},
   "source": [
    "## Solución total con $U = U_p + U_h$"
   ]
  },
  {
   "cell_type": "code",
   "execution_count": 19,
   "metadata": {},
   "outputs": [
    {
     "data": {
      "text/latex": [
       "$\\displaystyle \\textrm{Ecuacion diferencial de gobierno: }$"
      ],
      "text/plain": [
       "<IPython.core.display.Math object>"
      ]
     },
     "metadata": {},
     "output_type": "display_data"
    },
    {
     "data": {
      "text/latex": [
       "$\\displaystyle m \\ddot{U} + c \\dot{U} + k U = 0 \n",
       "$"
      ],
      "text/plain": [
       "<IPython.core.display.Math object>"
      ]
     },
     "metadata": {},
     "output_type": "display_data"
    },
    {
     "data": {
      "text/latex": [
       "$\\displaystyle \\textrm{Forma de la solucion: }$"
      ],
      "text/plain": [
       "<IPython.core.display.Math object>"
      ]
     },
     "metadata": {},
     "output_type": "display_data"
    },
    {
     "data": {
      "text/latex": [
       "$\\displaystyle U = C_{1p} \\cos{\\left(\\Omega t \\right)} + C_{2p} \\sin{\\left(\\Omega t \\right)} + \\left(C_{1h} \\cos{\\left(w_{d} t \\right)} + C_{2h} \\sin{\\left(w_{d} t \\right)}\\right) e^{- \\xi w_{n} t} \n",
       "$"
      ],
      "text/plain": [
       "<IPython.core.display.Math object>"
      ]
     },
     "metadata": {},
     "output_type": "display_data"
    },
    {
     "data": {
      "text/latex": [
       "$\\displaystyle \\dot{U} = - C_{1p} \\Omega \\sin{\\left(\\Omega t \\right)} + C_{2p} \\Omega \\cos{\\left(\\Omega t \\right)} - \\xi w_{n} \\left(C_{1h} \\cos{\\left(w_{d} t \\right)} + C_{2h} \\sin{\\left(w_{d} t \\right)}\\right) e^{- \\xi w_{n} t} + \\left(- C_{1h} w_{d} \\sin{\\left(w_{d} t \\right)} + C_{2h} w_{d} \\cos{\\left(w_{d} t \\right)}\\right) e^{- \\xi w_{n} t} \n",
       "$"
      ],
      "text/plain": [
       "<IPython.core.display.Math object>"
      ]
     },
     "metadata": {},
     "output_type": "display_data"
    },
    {
     "data": {
      "text/latex": [
       "$\\displaystyle \\ddot{U} = - C_{1p} \\Omega^{2} \\cos{\\left(\\Omega t \\right)} - C_{2p} \\Omega^{2} \\sin{\\left(\\Omega t \\right)} + \\xi^{2} w_{n}^{2} \\left(C_{1h} \\cos{\\left(w_{d} t \\right)} + C_{2h} \\sin{\\left(w_{d} t \\right)}\\right) e^{- \\xi w_{n} t} - 2 \\xi w_{n} \\left(- C_{1h} w_{d} \\sin{\\left(w_{d} t \\right)} + C_{2h} w_{d} \\cos{\\left(w_{d} t \\right)}\\right) e^{- \\xi w_{n} t} + \\left(- C_{1h} w_{d}^{2} \\cos{\\left(w_{d} t \\right)} - C_{2h} w_{d}^{2} \\sin{\\left(w_{d} t \\right)}\\right) e^{- \\xi w_{n} t} \n",
       "$"
      ],
      "text/plain": [
       "<IPython.core.display.Math object>"
      ]
     },
     "metadata": {},
     "output_type": "display_data"
    },
    {
     "data": {
      "text/latex": [
       "$\\displaystyle \\textrm{Dadas las condiciones de borde, encontrar las condiciones de borde: }$"
      ],
      "text/plain": [
       "<IPython.core.display.Math object>"
      ]
     },
     "metadata": {},
     "output_type": "display_data"
    },
    {
     "data": {
      "text/latex": [
       "$\\displaystyle C_{1p} \\cos{\\left(\\Omega t_{0} \\right)} + C_{2p} \\sin{\\left(\\Omega t_{0} \\right)} - U_{0} + \\left(C_{1h} \\cos{\\left(w_{d} t_{0} \\right)} + C_{2h} \\sin{\\left(w_{d} t_{0} \\right)}\\right) e^{- \\xi w_{n} t_{0}} = 0 \n",
       "$"
      ],
      "text/plain": [
       "<IPython.core.display.Math object>"
      ]
     },
     "metadata": {},
     "output_type": "display_data"
    },
    {
     "data": {
      "text/latex": [
       "$\\displaystyle - C_{1p} \\Omega \\sin{\\left(\\Omega t_{0} \\right)} + C_{2p} \\Omega \\cos{\\left(\\Omega t_{0} \\right)} - \\dot{U}_0 - \\xi w_{n} \\left(C_{1h} \\cos{\\left(w_{d} t_{0} \\right)} + C_{2h} \\sin{\\left(w_{d} t_{0} \\right)}\\right) e^{- \\xi w_{n} t_{0}} + \\left(- C_{1h} w_{d} \\sin{\\left(w_{d} t_{0} \\right)} + C_{2h} w_{d} \\cos{\\left(w_{d} t_{0} \\right)}\\right) e^{- \\xi w_{n} t_{0}} = 0 \n",
       "$"
      ],
      "text/plain": [
       "<IPython.core.display.Math object>"
      ]
     },
     "metadata": {},
     "output_type": "display_data"
    },
    {
     "data": {
      "text/latex": [
       "$\\displaystyle \\textrm{Sistema de ecuaciones a resolver: }$"
      ],
      "text/plain": [
       "<IPython.core.display.Math object>"
      ]
     },
     "metadata": {},
     "output_type": "display_data"
    },
    {
     "data": {
      "text/latex": [
       "$\\displaystyle C_{1h} + C_{1p} - U_{0} = 0 \n",
       "$"
      ],
      "text/plain": [
       "<IPython.core.display.Math object>"
      ]
     },
     "metadata": {},
     "output_type": "display_data"
    },
    {
     "data": {
      "text/latex": [
       "$\\displaystyle - C_{1h} \\xi w_{n} + C_{2h} w_{d} + C_{2p} \\Omega - \\dot{U}_0 = 0 \n",
       "$"
      ],
      "text/plain": [
       "<IPython.core.display.Math object>"
      ]
     },
     "metadata": {},
     "output_type": "display_data"
    },
    {
     "data": {
      "text/latex": [
       "$\\displaystyle \\textrm{Coeficientes encontrados: }$"
      ],
      "text/plain": [
       "<IPython.core.display.Math object>"
      ]
     },
     "metadata": {},
     "output_type": "display_data"
    },
    {
     "data": {
      "text/latex": [
       "$\\displaystyle C_{1h} = - C_{1p} + U_{0} \n",
       "$"
      ],
      "text/plain": [
       "<IPython.core.display.Math object>"
      ]
     },
     "metadata": {},
     "output_type": "display_data"
    },
    {
     "data": {
      "text/latex": [
       "$\\displaystyle C_{2h} = \\frac{- C_{1p} \\xi w_{n} - C_{2p} \\Omega + \\dot{U}_0 + \\xi w_{n} U_{0}}{w_{d}} \n",
       "$"
      ],
      "text/plain": [
       "<IPython.core.display.Math object>"
      ]
     },
     "metadata": {},
     "output_type": "display_data"
    },
    {
     "data": {
      "text/latex": [
       "$\\displaystyle \\textrm{Soluciones finales:}$"
      ],
      "text/plain": [
       "<IPython.core.display.Math object>"
      ]
     },
     "metadata": {},
     "output_type": "display_data"
    },
    {
     "data": {
      "text/latex": [
       "$\\displaystyle U = C_{1p} \\cos{\\left(\\Omega t \\right)} + C_{2p} \\sin{\\left(\\Omega t \\right)} + \\left(C_{1h} \\cos{\\left(w_{d} t \\right)} + C_{2h} \\sin{\\left(w_{d} t \\right)}\\right) e^{- \\xi w_{n} t} \n",
       "$"
      ],
      "text/plain": [
       "<IPython.core.display.Math object>"
      ]
     },
     "metadata": {},
     "output_type": "display_data"
    },
    {
     "data": {
      "text/latex": [
       "$\\displaystyle \\dot{U} = - C_{1p} \\Omega \\sin{\\left(\\Omega t \\right)} + C_{2p} \\Omega \\cos{\\left(\\Omega t \\right)} - \\xi w_{n} \\left(C_{1h} \\cos{\\left(w_{d} t \\right)} + C_{2h} \\sin{\\left(w_{d} t \\right)}\\right) e^{- \\xi w_{n} t} + \\left(- C_{1h} w_{d} \\sin{\\left(w_{d} t \\right)} + C_{2h} w_{d} \\cos{\\left(w_{d} t \\right)}\\right) e^{- \\xi w_{n} t} \n",
       "$"
      ],
      "text/plain": [
       "<IPython.core.display.Math object>"
      ]
     },
     "metadata": {},
     "output_type": "display_data"
    },
    {
     "data": {
      "text/latex": [
       "$\\displaystyle \\ddot{U} = - C_{1p} \\Omega^{2} \\cos{\\left(\\Omega t \\right)} - C_{2p} \\Omega^{2} \\sin{\\left(\\Omega t \\right)} + \\xi^{2} w_{n}^{2} \\left(C_{1h} \\cos{\\left(w_{d} t \\right)} + C_{2h} \\sin{\\left(w_{d} t \\right)}\\right) e^{- \\xi w_{n} t} - 2 \\xi w_{n} \\left(- C_{1h} w_{d} \\sin{\\left(w_{d} t \\right)} + C_{2h} w_{d} \\cos{\\left(w_{d} t \\right)}\\right) e^{- \\xi w_{n} t} + \\left(- C_{1h} w_{d}^{2} \\cos{\\left(w_{d} t \\right)} - C_{2h} w_{d}^{2} \\sin{\\left(w_{d} t \\right)}\\right) e^{- \\xi w_{n} t} \n",
       "$"
      ],
      "text/plain": [
       "<IPython.core.display.Math object>"
      ]
     },
     "metadata": {},
     "output_type": "display_data"
    },
    {
     "data": {
      "text/latex": [
       "$\\displaystyle \\textrm{Solucion homogenea:}$"
      ],
      "text/plain": [
       "<IPython.core.display.Math object>"
      ]
     },
     "metadata": {},
     "output_type": "display_data"
    },
    {
     "data": {
      "text/latex": [
       "$\\displaystyle U = \\left(C_{1h} \\cos{\\left(w_{d} t \\right)} + C_{2h} \\sin{\\left(w_{d} t \\right)}\\right) e^{- \\xi w_{n} t} \n",
       "$"
      ],
      "text/plain": [
       "<IPython.core.display.Math object>"
      ]
     },
     "metadata": {},
     "output_type": "display_data"
    },
    {
     "data": {
      "text/latex": [
       "$\\displaystyle \\dot{U} = - \\xi w_{n} \\left(C_{1h} \\cos{\\left(w_{d} t \\right)} + C_{2h} \\sin{\\left(w_{d} t \\right)}\\right) e^{- \\xi w_{n} t} + \\left(- C_{1h} w_{d} \\sin{\\left(w_{d} t \\right)} + C_{2h} w_{d} \\cos{\\left(w_{d} t \\right)}\\right) e^{- \\xi w_{n} t} \n",
       "$"
      ],
      "text/plain": [
       "<IPython.core.display.Math object>"
      ]
     },
     "metadata": {},
     "output_type": "display_data"
    },
    {
     "data": {
      "text/latex": [
       "$\\displaystyle \\ddot{U} = \\xi^{2} w_{n}^{2} \\left(C_{1h} \\cos{\\left(w_{d} t \\right)} + C_{2h} \\sin{\\left(w_{d} t \\right)}\\right) e^{- \\xi w_{n} t} - 2 \\xi w_{n} \\left(- C_{1h} w_{d} \\sin{\\left(w_{d} t \\right)} + C_{2h} w_{d} \\cos{\\left(w_{d} t \\right)}\\right) e^{- \\xi w_{n} t} + \\left(- C_{1h} w_{d}^{2} \\cos{\\left(w_{d} t \\right)} - C_{2h} w_{d}^{2} \\sin{\\left(w_{d} t \\right)}\\right) e^{- \\xi w_{n} t} \n",
       "$"
      ],
      "text/plain": [
       "<IPython.core.display.Math object>"
      ]
     },
     "metadata": {},
     "output_type": "display_data"
    }
   ],
   "source": [
    "Uuo, Uvo, Uao = sp.symbols('zU_0, \\\\dot{U}_0, \\\\ddot{U}_0')\n",
    "\n",
    "# Diferential equation\n",
    "print_text('Ecuacion diferencial de gobierno: ')\n",
    "ed = m * Ua + c * Uv + k * Uu\n",
    "print_math(ed, '', '0')\n",
    "print_text('Forma de la solucion: ')\n",
    "Us = (C1h * sp.cos(wd * t) + C2h * sp.sin(wd * t)) * sp.exp(-z*wn*t) + Ups\n",
    "print_math(Us, 'U')\n",
    "Vs = sp.diff(Us, t)\n",
    "print_math(Vs, '\\\\dot{U}')\n",
    "As = sp.diff(Vs, t)\n",
    "print_math(As, '\\\\ddot{U}')\n",
    "\n",
    "print_text('Dadas las condiciones de borde, encontrar las condiciones de borde: ')\n",
    "Uso = Us - Uuo\n",
    "Uso = Uso.subs(t, to)\n",
    "print_math(Uso, '', '0')\n",
    "Uso = Uso.subs(to, 0)\n",
    "Vso = Vs - Uvo\n",
    "Vso = Vso.subs(t, to)\n",
    "print_math(Vso, '', '0')\n",
    "Vso = Vso.subs(to, 0)\n",
    "\n",
    "print_text('Sistema de ecuaciones a resolver: ')\n",
    "print_math(Uso, '', '0')\n",
    "print_math(Vso, '', '0')\n",
    "\n",
    "\n",
    "print_text('Coeficientes encontrados: ')\n",
    "coeff_sol = sp.solve([Uso, Vso], [C1h, C2h])\n",
    "for coeff in coeff_sol:\n",
    "    coeff_sol[coeff] = sp.simplify(sp.factor(coeff_sol[coeff]))\n",
    "    print_math(coeff_sol[coeff], sp.latex(coeff))\n",
    "\n",
    "print_text('Soluciones finales:')\n",
    "print_math(Us, 'U')\n",
    "print_math(Vs, '\\\\dot{U}')\n",
    "print_math(As, '\\\\ddot{U}')\n",
    "\n",
    "print_text('Solucion homogenea:')\n",
    "Uh = (C1h * sp.cos(wd * t) + C2h * sp.sin(wd * t)) * sp.exp(-z*wn*t)\n",
    "print_math(Uh, 'U')\n",
    "Vh = sp.diff(Uh, t)\n",
    "print_math(Vh, '\\\\dot{U}')\n",
    "Ah = sp.diff(Vh, t)\n",
    "print_math(Ah, '\\\\ddot{U}')\n"
   ]
  },
  {
   "cell_type": "markdown",
   "metadata": {},
   "source": [
    "## Traduciendo las expresiones a Matlab"
   ]
  },
  {
   "cell_type": "code",
   "execution_count": 20,
   "metadata": {},
   "outputs": [
    {
     "name": "stdout",
     "output_type": "stream",
     "text": [
      "    % Fuerza externa\n",
      "    Fext = Fo*cos(Ome*t);\n",
      "    % Constantes particulares\n",
      "    C1p = Uest*(1 - r^2)/(4*z^2*r^2 + r^4 - 2*r^2 + 1);\n",
      "    C2p = 2*Uest*z*r/(4*z^2*r^2 + r^4 - 2*r^2 + 1);\n",
      "    % Solucion particular\n",
      "    Up = C1p*cos(Ome*t) + C2p*sin(Ome*t);\n",
      "    Vp = -C1p*Ome*sin(Ome*t) + C2p*Ome*cos(Ome*t);\n",
      "    Ap = -C1p*Ome^2*cos(Ome*t) - C2p*Ome^2*sin(Ome*t);\n",
      "    % Constantes homogeneas\n",
      "    C1h = -C1p + Uo;\n",
      "    C2h = (-C1p*z*wn - C2p*Ome + Vo + z*wn*Uo)/wd;\n",
      "    % Solucion homogenena\n",
      "    Uh = (C1h*cos(wd*t) + C2h*sin(wd*t)).*exp(-z*wn*t);\n",
      "    Vh = -z*wn*(C1h*cos(wd*t) + C2h*sin(wd*t)).*exp(-z*wn*t) + (-C1h*wd*sin(wd*t) + C2h*wd*cos(wd*t)).*exp(-z*wn*t);\n",
      "    Ah = z^2*wn^2*(C1h*cos(wd*t) + C2h*sin(wd*t)).*exp(-z*wn*t) - 2*z*wn*(-C1h*wd*sin(wd*t) + C2h*wd*cos(wd*t)).*exp(-z*wn*t) + (-C1h*wd^2*cos(wd*t) - C2h*wd^2*sin(wd*t)).*exp(-z*wn*t);\n",
      "    % Totales\n",
      "    Ut = Uh + Up;\n",
      "    Vt = Vh + Vp;\n",
      "    At = Ah + Ap;\n"
     ]
    }
   ],
   "source": [
    "def sympy2matlab(spExpr):\n",
    "    rep_map = {\n",
    "        'w_n': 'wn',\n",
    "        'F_0': 'Fo',\n",
    "        '\\\\Omega': 'Ome',\n",
    "        'zU_0': 'Uo',\n",
    "        'r': 'r',\n",
    "        'w_d': 'wd',\n",
    "        'zt': 't',\n",
    "        'U_{est}': 'Uest',\n",
    "        '\\\\dot{U}_0': 'Vo',\n",
    "        'a\\\\xi': 'z',\n",
    "        'C_{1h}': 'C1h',\n",
    "        'C_{2h}': 'C2h',\n",
    "        'C_{1p}': 'C1p',\n",
    "        'C_{2p}': 'C2p',\n",
    "        'tr': 'tr',\n",
    "        'am': 'me',\n",
    "    }\n",
    "    str_expr = str(spExpr).replace('**', '^')\n",
    "    str_expr = str_expr.replace('*exp', '.*exp')\n",
    "    try:\n",
    "      used_symbols = spExpr.atoms(sp.Symbol)\n",
    "    except:\n",
    "      used_symbols = []\n",
    "    \n",
    "    for sym in used_symbols:\n",
    "        str_expr = str_expr.replace(str(sym), rep_map[str(sym)])\n",
    "    return str_expr\n",
    "\n",
    "\n",
    "Up_str = sympy2matlab(Ups)\n",
    "Vp_str = sympy2matlab(Vps)\n",
    "Ap_str = sympy2matlab(Aps)\n",
    "\n",
    "Uh_str = sympy2matlab(Uh)\n",
    "Vh_str = sympy2matlab(Vh)\n",
    "Ah_str = sympy2matlab(Ah)\n",
    "\n",
    "C1h_str = sympy2matlab(coeff_sol[C1h])\n",
    "C2h_str = sympy2matlab(coeff_sol[C2h])\n",
    "if C1p != 0:\n",
    "  C1p_str = sympy2matlab(sol[C1p])\n",
    "else:\n",
    "  C1p_str = '0'\n",
    "if C2p != 0:\n",
    "  C2p_str = sympy2matlab(sol[C2p])\n",
    "else:\n",
    "  C2p_str = '0'\n",
    "\n",
    "Fext_str = sympy2matlab(ext_force_orig)\n",
    "\n",
    "print('    % Fuerza externa')\n",
    "print(f'    Fext = {Fext_str};')\n",
    "print('    % Constantes particulares')\n",
    "print(f'    C1p = {C1p_str};')\n",
    "print(f'    C2p = {C2p_str};')\n",
    "print('    % Solucion particular')\n",
    "print(f'    Up = {Up_str};')\n",
    "print(f'    Vp = {Vp_str};')\n",
    "print(f'    Ap = {Ap_str};')\n",
    "print('    % Constantes homogeneas')\n",
    "print(f'    C1h = {C1h_str};')\n",
    "print(f'    C2h = {C2h_str};')\n",
    "print('    % Solucion homogenena')\n",
    "print(f'    Uh = {Uh_str};')\n",
    "print(f'    Vh = {Vh_str};')\n",
    "print(f'    Ah = {Ah_str};')\n",
    "print('    % Totales')\n",
    "print(f'    Ut = Uh + Up;')\n",
    "print(f'    Vt = Vh + Vp;')\n",
    "print(f'    At = Ah + Ap;')"
   ]
  }
 ],
 "metadata": {
  "interpreter": {
   "hash": "c1570cb01023495b88d5f2a86fafcaa6d2215aa1bbe8341a42b1f095fd49409b"
  },
  "kernelspec": {
   "display_name": "Python 3.9.6 64-bit",
   "language": "python",
   "name": "python3"
  },
  "language_info": {
   "codemirror_mode": {
    "name": "ipython",
    "version": 3
   },
   "file_extension": ".py",
   "mimetype": "text/x-python",
   "name": "python",
   "nbconvert_exporter": "python",
   "pygments_lexer": "ipython3",
   "version": "3.9.6"
  },
  "orig_nbformat": 4
 },
 "nbformat": 4,
 "nbformat_minor": 2
}
